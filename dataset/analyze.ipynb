{
 "cells": [
  {
   "cell_type": "code",
   "execution_count": 14,
   "metadata": {},
   "outputs": [],
   "source": [
    "from scipy.sparse import csr_matrix\n",
    "import numpy as np\n",
    "raw_file = open(\"ml-1m.tsv\", \"r\")\n",
    "lines = raw_file.readlines()"
   ]
  },
  {
   "cell_type": "code",
   "execution_count": 46,
   "metadata": {},
   "outputs": [],
   "source": [
    "edge = [[], []]\n",
    "label = []\n",
    "for line in lines:\n",
    "    line = line.strip(\"/n\")\n",
    "    line = line.split(\"\\t\")\n",
    "    fr, to, sign = line\n",
    "    edge[0].append(int(fr))\n",
    "    edge[1].append(int(to))\n",
    "    label.append(sign)\n"
   ]
  },
  {
   "cell_type": "code",
   "execution_count": 47,
   "metadata": {},
   "outputs": [
    {
     "data": {
      "text/plain": [
       "6040"
      ]
     },
     "execution_count": 47,
     "metadata": {},
     "output_type": "execute_result"
    }
   ],
   "source": [
    "num_user = max(edge[0])+1\n",
    "num_user"
   ]
  },
  {
   "cell_type": "code",
   "execution_count": 48,
   "metadata": {},
   "outputs": [
    {
     "data": {
      "text/plain": [
       "3952"
      ]
     },
     "execution_count": 48,
     "metadata": {},
     "output_type": "execute_result"
    }
   ],
   "source": [
    "num_item = max(edge[1])+1\n",
    "num_item"
   ]
  },
  {
   "cell_type": "code",
   "execution_count": 49,
   "metadata": {},
   "outputs": [],
   "source": [
    "num_nodes = num_item+num_user"
   ]
  },
  {
   "cell_type": "code",
   "execution_count": 82,
   "metadata": {},
   "outputs": [
    {
     "data": {
      "text/plain": [
       "torch.Size([9992, 9992])"
      ]
     },
     "execution_count": 82,
     "metadata": {},
     "output_type": "execute_result"
    }
   ],
   "source": [
    "import torch\n",
    "A = torch.sparse_coo_tensor(torch.tensor(edge), torch.tensor([1]*len(edge[0])), (num_nodes, num_nodes))\n",
    "A.shape"
   ]
  },
  {
   "cell_type": "code",
   "execution_count": 86,
   "metadata": {},
   "outputs": [],
   "source": [
    "row_sum = torch.sum(A, dim=1)"
   ]
  },
  {
   "cell_type": "code",
   "execution_count": 91,
   "metadata": {},
   "outputs": [
    {
     "data": {
      "text/plain": [
       "torch.Size([9992, 9992])"
      ]
     },
     "execution_count": 91,
     "metadata": {},
     "output_type": "execute_result"
    }
   ],
   "source": [
    "d_inv_row = torch.pow(row_sum, -0.5).flatten()\n",
    "d_inv_matrix = torch.diag(d_inv_row.to_dense()).shape"
   ]
  },
  {
   "cell_type": "code",
   "execution_count": 51,
   "metadata": {},
   "outputs": [],
   "source": [
    "from scipy.sparse import spdiags\n",
    "def row_normalize(A):\n",
    "    '''\n",
    "    Perform row-normalization of the given matrix\n",
    "\n",
    "    inputs\n",
    "        A : crs_matrix\n",
    "            (n x n) input matrix where n is # of nodes\n",
    "    outputs\n",
    "        nA : crs_matrix\n",
    "             (n x n) row-normalized matrix\n",
    "    '''\n",
    "    n = A.shape[0]\n",
    "\n",
    "    # do row-wise sum where d is out-degree for each node\n",
    "    d = A.sum(axis=1)\n",
    "    d = np.asarray(d).flatten()\n",
    "\n",
    "    # handle 0 entries in d\n",
    "    d = np.maximum(d, np.ones(n))\n",
    "    invd = 1.0 / d\n",
    "\n",
    "    invD = spdiags(invd, 0, n, n)\n",
    "\n",
    "    # compute row normalized adjacency matrix by nA = invD * A\n",
    "    nA = invD.dot(A)\n",
    "\n",
    "    return nA"
   ]
  },
  {
   "cell_type": "code",
   "execution_count": 52,
   "metadata": {},
   "outputs": [],
   "source": [
    "nA = row_normalize(A)\n",
    "nAT = nA.T"
   ]
  },
  {
   "cell_type": "code",
   "execution_count": 53,
   "metadata": {},
   "outputs": [
    {
     "data": {
      "text/plain": [
       "array([0.01886792, 0.01886792, 0.01886792, ..., 0.00293255, 0.00293255,\n",
       "       0.00293255])"
      ]
     },
     "execution_count": 53,
     "metadata": {},
     "output_type": "execute_result"
    }
   ],
   "source": [
    "nAT.data"
   ]
  },
  {
   "cell_type": "code",
   "execution_count": 56,
   "metadata": {},
   "outputs": [],
   "source": [
    "import torch\n",
    "nAT = nAT.tocoo()\n",
    "row = torch.tensor(nAT.row, dtype=torch.long)\n",
    "col = torch.tensor(nAT.col, dtype=torch.long)\n",
    "values = torch.tensor(nAT.data, dtype=torch.float)\n",
    "indices = torch.stack([row, col], dim=0)\n",
    "torch_sparse_tensor = torch.sparse.FloatTensor(indices, values, torch.Size(nAT.shape))"
   ]
  },
  {
   "cell_type": "code",
   "execution_count": 79,
   "metadata": {},
   "outputs": [],
   "source": [
    "alpha = 0.8\n",
    "x0 = torch.randn(num_nodes, num_nodes).to(\"cuda:0\")\n",
    "I = torch.eye(num_nodes).to(\"cuda:0\")\n",
    "nAt = torch_sparse_tensor.to(\"cuda:0\")\n",
    "x = x0.to(\"cuda:0\")\n",
    "for i in range(3):\n",
    "    x = alpha * nAt.matmul(x) + (1-alpha) * I"
   ]
  },
  {
   "cell_type": "code",
   "execution_count": 80,
   "metadata": {},
   "outputs": [
    {
     "data": {
      "text/plain": [
       "tensor([[0.2000, 0.0000, 0.0000,  ..., 0.0000, 0.0000, 0.0000],\n",
       "        [0.0000, 0.2000, 0.0000,  ..., 0.0000, 0.0000, 0.0000],\n",
       "        [0.0000, 0.0000, 0.2000,  ..., 0.0000, 0.0000, 0.0000],\n",
       "        ...,\n",
       "        [0.0000, 0.0000, 0.0000,  ..., 0.2000, 0.0000, 0.0000],\n",
       "        [0.0000, 0.0000, 0.0000,  ..., 0.0000, 0.2000, 0.0000],\n",
       "        [0.0000, 0.0000, 0.0000,  ..., 0.0000, 0.0000, 0.2000]],\n",
       "       device='cuda:0')"
      ]
     },
     "execution_count": 80,
     "metadata": {},
     "output_type": "execute_result"
    }
   ],
   "source": [
    "x"
   ]
  },
  {
   "cell_type": "code",
   "execution_count": 73,
   "metadata": {},
   "outputs": [],
   "source": [
    "alpha = 0.8\n",
    "x0 = torch.randn(num_nodes, num_nodes).abs().to(\"cuda:0\")\n",
    "I = torch.eye(num_nodes).to(\"cuda:0\")\n",
    "nAt = torch_sparse_tensor.to(\"cuda:0\")\n",
    "x = x0.to(\"cuda:0\")\n",
    "for i in range(30):\n",
    "    x = alpha * nAt.matmul(x) + (1-alpha) * I"
   ]
  },
  {
   "cell_type": "code",
   "execution_count": null,
   "metadata": {},
   "outputs": [],
   "source": []
  }
 ],
 "metadata": {
  "kernelspec": {
   "display_name": "dvg",
   "language": "python",
   "name": "python3"
  },
  "language_info": {
   "codemirror_mode": {
    "name": "ipython",
    "version": 3
   },
   "file_extension": ".py",
   "mimetype": "text/x-python",
   "name": "python",
   "nbconvert_exporter": "python",
   "pygments_lexer": "ipython3",
   "version": "3.12.3"
  }
 },
 "nbformat": 4,
 "nbformat_minor": 2
}
